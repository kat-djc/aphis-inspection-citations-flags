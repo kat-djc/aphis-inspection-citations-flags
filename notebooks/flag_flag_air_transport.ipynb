{
 "cells": [
  {
   "cell_type": "code",
   "execution_count": 1,
   "id": "2dd86db8",
   "metadata": {},
   "outputs": [],
   "source": [
    "import pandas as pd\n",
    "import numpy as np\n",
    "import re"
   ]
  },
  {
   "cell_type": "code",
   "execution_count": null,
   "id": "8513e9db-0612-402f-b98e-6c1a413b7848",
   "metadata": {},
   "outputs": [],
   "source": []
  },
  {
   "cell_type": "markdown",
   "id": "7dc49962",
   "metadata": {},
   "source": [
    "# Flag for Air Transport"
   ]
  },
  {
   "cell_type": "markdown",
   "id": "94b2e42e",
   "metadata": {},
   "source": [
    "## Motivation"
   ]
  },
  {
   "cell_type": "markdown",
   "id": "f348e081",
   "metadata": {},
   "source": [
    "We noticed that the most frequent APHIS inspection sites were airlines. While being transported, animals can be subject to unsafe conditions, lack of food and water, or otherwise improper handling. Investigation into report narratives could reveal critical areas of improvement for airlines.  "
   ]
  },
  {
   "cell_type": "markdown",
   "id": "7be08856",
   "metadata": {},
   "source": [
    "## Conditions"
   ]
  },
  {
   "cell_type": "markdown",
   "id": "a87371d2",
   "metadata": {},
   "source": [
    "1. Keywords \n",
    "    - We use keywords to capture relevant narratives.\n",
    "    \n",
    "This logic is a starting point. We will continue to iterate on improving accurate capture of narratives."
   ]
  },
  {
   "cell_type": "markdown",
   "id": "5d898dd2",
   "metadata": {},
   "source": [
    "## Output\n",
    "The code will create a copy of the inspections-citations CSV file in the flagged_citations folder. The file will have the following new columns: \n",
    "- 'flag_cond_1': indicator column for flag condition 1\n",
    "- 'flag_air_transport': indicator column for the air transport flag"
   ]
  },
  {
   "cell_type": "code",
   "execution_count": 2,
   "id": "df26f1cd",
   "metadata": {},
   "outputs": [
    {
     "data": {
      "text/plain": [
       "(42727, 6)"
      ]
     },
     "execution_count": 2,
     "metadata": {},
     "output_type": "execute_result"
    }
   ],
   "source": [
    "# Read in most recent aphis inspection-citations.\n",
    "combined_dir = '../aphis-inspection-reports/data/combined/'\n",
    "\n",
    "citations = pd.read_csv(combined_dir + 'inspections-citations.csv')\n",
    "citations.shape"
   ]
  },
  {
   "cell_type": "code",
   "execution_count": 3,
   "id": "368583e1",
   "metadata": {},
   "outputs": [
    {
     "data": {
      "text/plain": [
       "flag_cond_1\n",
       "False    42267\n",
       "True       460\n",
       "Name: count, dtype: int64"
      ]
     },
     "execution_count": 3,
     "metadata": {},
     "output_type": "execute_result"
    }
   ],
   "source": [
    "# Condition 1\n",
    "air_transport_keywords = [\n",
    "    'airport',\n",
    "    'airline', \n",
    "    'waybill',\n",
    "    'airway bill'\n",
    "    'air transport',\n",
    "    'flight', \n",
    "    'passenger terminal',\n",
    "    ' awb', \n",
    "    'aircraft', \n",
    "    'international terminal',\n",
    "    'air cargo'\n",
    "    \n",
    "]\n",
    "\n",
    "citations['flag_cond_1'] = citations['narrative'].apply(lambda x: any(word in x.lower() for word in air_transport_keywords))\n",
    "citations['flag_cond_1'].value_counts()"
   ]
  },
  {
   "cell_type": "code",
   "execution_count": 8,
   "id": "123dd07a-2f4f-43ef-a962-ddb57e37aaff",
   "metadata": {},
   "outputs": [
    {
     "data": {
      "text/plain": [
       "['A responsible adult was not available to accompany APHIS Officials during the inspection process at 1330 on\\n28Aug2023. Email attempts to contact local and regional personnel were not answered within allotted 30 minute wait\\nperiod. Inspector departed airport at 1415.\\nEnd Section',\n",
       " 'In approximately January, 2014, a cat named \"Bogie\" escaped from its kennel while under the care of United\\nAirlines Cargo personnel at the Honolulu International Airport.\\nAfter the cat was recovered, a United spokesperson issued the following statement to the press:\\n\"Our agents were working to secure the door of the kennel with plastic ties to ensure Bogie(cid:25)\\'s safety throughout the\\nflight. However, during this process the cat escaped from his kennel...\"\\nThe cat was missing for approximately 19 months, and was then recovered near the airport, and returned to his\\nowners.\\nDuring transit, animals should be handled in a manner that protects their well-being and minimizes distress. Steps\\nshould be taken to ensure that personnel are adequately trained and protocols are in effect to prevent any similar\\nincidents.\\nTo be corrected from this time forward.\\nAn exit briefing was given over the phone.',\n",
       " 'On 7/15/2017 a dog was sent from Cincinnati airport to Greensboro (GSO) with no health certificate. Air waybill\\n#:016-50782071.\\nOn 7/25/2017 a dog was sent from Cincinnati airport to Minneapolis (MSP) with no health certificate. Air waybill\\n#:016-50825132.\\nOn 7/26/2017 a dog was sent from Cincinnati airport to Jacksonville (JAX) with no health certificate. Air waybill\\n#:016-51097292.\\nOn 7/25/2017 a dog was sent from Cincinnati airport (CVG) to San Francisco (SFO) with no health certificate. Air\\nwaybill #:016-50812963.\\nOn 8/19/2017 a dog was sent from Cincinnati airport to Denver (DEN) with no health certificate. Air waybill\\n#:016-50862033.\\nHealth certificates are required to prove that a veterinarian has found the dog fit to travel and is not carrying an\\ninfectious disease. All dogs accepted for travel must be accompanied by a health certificate.\\nNo intermediate handler or carrier to whom any live dog, cat, or nonhuman primate is delivered for transportation,\\nshall receive a live dog, cat, or nonhuman primate for transportation, in commerce, unless and until it is\\naccompanied by a health certificate issued by a licensed veterinarian.\\nCorrect by: from now forward.\\nInspection and exit interview conducted with the supervisor.',\n",
       " 'A responsible adult was not available to accompany APHIS Officials during the inspection process at 10:00 am on\\n03-May-18.\\nThis company does not fly at this time from this airport.',\n",
       " 'A responsible adult was not available to accompany APHIS Officials during the inspection process at 10:00 am on\\n03-May-18.\\nThis company does not fly at this time from this airport.',\n",
       " 'On 12/17/2017 a dog was sent from Cincinnati airport to Salt Lake City with no health certificate. Delta Air waybill\\n#:006-67637695.\\nHealth certificates are required to prove that a veterinarian has found the dog fit to travel and is not carrying an\\ninfectious disease. All dogs accepted for travel must be accompanied by a health certificate.\\nNo intermediate handler or carrier to whom any live dog, cat, or nonhuman primate is delivered for transportation,\\nshall receive a live dog, cat, or nonhuman primate for transportation, in commerce, unless and until it is\\naccompanied by a health certificate issued by a licensed veterinarian.\\nCorrect by: from now forward.',\n",
       " 'On 12/23/2016 1 dog was sent from Cincinnati airport (CVG) to Bozeman (BZN) Delta Air waybill #:006- 03992564\\nthis dog was only 7 weeks old, by the Health Certificate #: SA-283383, of 12/21/2017 KY Department of Agriculture.\\nOn 12/23/2016 1 dog was sent from Cincinnati airport (CVG) to Bangor (LGA) Delta Air waybill #:006- 03985074\\nthis dog was only 7 weeks old, by the Health Certificate #: SA-283381, of 12/19/2016 KY Department of Agriculture.\\nOn 08/3/2017 1 dog was sent from Cincinnati airport (CVG) to Denver (DEN) Delta Air waybill #:006- 74578604 this\\ndog was only 7 weeks old, by the Health Certificate #: SA-294881, of 8/2/2017 KY Department of Agriculture.\\nPuppies that are underage may not have fully developed immune systems nor have enough nutritional reserves to\\nmaintain them through the transport period. Transport of underage puppies causes them undue physical and mental\\nstress and must not be done.\\nNo dog or cat shall be transported in commerce by any person, unless such dog or cat is at least eight (8) weeks of\\nage and has been weaned.\\nCorrect by: from now forward.\\nInspection conducted with the supervisor.\\nExit interview conducted with the station manager.',\n",
       " 'On Mar 23, 2019, Delta airline personnel transferred a dog from the holding area on the ramp of the Atlanta airport\\nto an aircraft. Sometime during the loading process onto the aircraft, the animal was able to escape from its\\nenclosure. The animal was found three days later.\\nAirline personnel must ensure proper handling at all times during transport of animals to ensure their safety and\\nwell-being.\\nA thorough exit interview was conducted with the Director of the Cargo Control Center by phone on 5-2-19.\\nAdditional Inspectors\\nLopinto John, Veterinary Medical Officer',\n",
       " 'A responsible adult was not available to accompany APHIS Officials during the inspection process at 2:00 pm on\\n03-May-18.\\nThis company does not fly at this time from this airport.',\n",
       " 'An adult English Bulldog, Thor, 8-10 years of age, was transported on HA090 from Honolulu, Air Waybill 173-35702015,\\nloading at @3:20 pm 07/27/2022, departing at @3:38 pm, and arriving deceased at @ 6:58 am at Boston Logan Airport\\non the following day, 7/28/2022. The temperature was reported to be 87.1 F at 3:00 pm at the Honolulu airport on\\n07/27/22. A necropsy was performed and the pathologist found that brachycephalic syndrome and heat stroke were the\\nlikely cause of death. A brachycephalic older dog is susceptible to the adverse health effects of increased stress and\\nrespiratory effort during travel. Animals must never be subjected to a combination of temperature, humidity and time that\\nis detrimental to the animal’s health, considering age, breed, and health status. The registrant must ensure that\\nappropriate measures are taken to alleviate the impact of climactic conditions on the animal.\\nThis inspection and exit interview were conducted with the facility representative.\\nn',\n",
       " 'One adult dog escaped the transport crate and was injured. A 2-year-old female Golden Retriever named \"Bella\"\\nescaped from her transport enclosure and was injured on 7/30/2021. The animal was in the pet holding area awaiting\\ntransport on flight 3483 from Seattle to Reno. She was contained in a large plastic “Vari-kennel” type transport enclosure.\\nThe dog was not observed escaping from the enclosure, but was seen running loose by an airport employee. The dog\\nchewed through the plastic cable tie fasteners used to secure the metal door, forced open the kennel door and escaped\\nthe transport enclosure. She then ran across the tarmac, jumped a fence, and went onto a street outside of the airport\\nsecured area. She was found injured and bleeding by a person who took the dog to a local veterinary hospital for care.\\nAccording to one of the veterinarians that treated “Bella” at the clinic, the dog was bleeding from her mouth, had\\nlacerations to the pads on all four paws, and her nails were broken. The animal was treated and released to the owners\\nthe following day.\\nPrimary enclosures used to transport dogs must be constructed so that the enclosure is strong enough to contain the\\nanimals securely and comfortably and to withstand the normal rigors of transportation, thus preventing their possible\\nescape and injury.\\nTo be corrected: from this time forward\\nAn exit interview was conducted with the Sr. Policy and Procedures Specialist.\\nEnd Section',\n",
       " 'The food and water certificate attached to the primary enclosure housing a miniature pincher puppy was not\\ncomplete ( see air waybill number 001TUL69811416). The food and water instructions were not filled out for the\\nnext feeding(s) and watering(s) for a 24 hour period. Failure to complete the food and water instructions at the\\nairport origin may result in the animal not being feed and watered during transport. The food and water certificate\\nmust be complete and attached to the primary enclosure with instructions for the next feeding(s) and watering(s) for\\na 24-hour period.',\n",
       " 'On 2/28/2017 a dog was sent from Cincinnati airport to Dallas (DFW) with no health certificate. American Airlines\\nAir waybill #:4677-6726.\\nOn 1/23/2017 a dog was sent from Cincinnati airport to New York (JFK) with no health certificate. American Airlines\\nAir waybill #:2805-3981.\\nHealth certificates are required to prove that a veterinarian has found the dog fit to travel and is not carrying an\\ninfectious disease. All dogs accepted for travel must be accompanied by a health certificate.\\nNo intermediate handler or carrier to whom any live dog, cat, or nonhuman primate is delivered for transportation,\\nshall receive a live dog, cat, or nonhuman primate for transportation, in commerce, unless and until it is\\naccompanied by a health certificate issued by a licensed veterinarian.\\nCorrect by: from now forward.\\nInspection and exit interview conducted with the compliance coordinator.',\n",
       " 'A 9 wk old mini goldendoodle \"Holly\" shipped 22 February 2018, on waybill 00829566 on American Airlines from\\nCMH through ORD to SAN, was shipped in an enclosure without food and water dishes securely attached inside the\\nprimary enclosure and placed so that the receptacles can be filled from outside the enclosure without opening the\\ndoor.\\nCarriers and intermediate handles must not accept any dog or cat for transport without having food and water\\nreceptacles attached inside the primary enclosure so that the receptacles can be filled from outside the enclosure\\nwithout opening the door to prevent escape during transport, especially for a young animal.\\nCorrect for all future shipments.\\nThis inspection took place at the cargo office at San Diego airport, accompanied by the contracted ground handling\\npersonnel.',\n",
       " 'Two dogs had just arrived to the cargo office at SFO on a flight from Miami. The dogs were on waybill #s 001-57248236\\nand 001-60181785. The dogs were in two separate crates, and in each crate the food / water receptacles had become\\ndislodged from the door, and were resting inside the enclosures, making it nearly impossible for airport personnel to offer\\nthe dogs food and water during transit.\\nThe animals should not be accepted for transportation without ensuring that food and water receptacles are securely\\nfastened inside the enclosure, and placed so that they can be filled without opening the enclosure. Failure to ensure\\nproper placement of receptacles could result in improper care of the animals, which could be detrimental to their well-\\nbeing.\\nThis inspection and exit interview were conducted with airline representatives at the cargo office.\\nEnd Section',\n",
       " 'On Thursday, February 2, 2023, a domestic short hair cat being shipped under air waybill 001-69046110 was killed while\\nbeing transported from an American Airlines aircraft to the American Airlines cargo terminal at DFW airport.\\nThe ends of a ratcheting strap that was used to secure the cat’s kennel to the aircraft unit load devise (ULD) became\\nentangled in the wheels of the ULD. This caused the cat’s kennel to be crushed allowing the cat to escape its primary\\nenclosure and be hit and killed by another vehicle.\\nAny person handling an animal’s primary enclosure while transporting must use care to avoid causing physical harm or\\ndistress to the animal. The facility must ensure that future animal transports are handled in a manner that do not result in\\nanimal escape, injury, and/or death.\\nThis inspection and exit interview were conducted with a facility representative.\\nn',\n",
       " 'A responsible adult was not available to accompany APHIS Officials during the inspection process at 13:00hrs on\\n20-JUN-18.***On Wednesday, June 20th 2018, between 13:00hrs and 13:30hrs, a responsible person was not\\navailable to conduct an inspection. Inspector attempted to contact licensee by (calling cell/home and leaving\\nmessage, knocking on door, honking while in driveway). This is the first attempted inspection.\\nThe licensee failed to have a responsible person available to conduct an animal welfare inspection. The facility was\\nnot able to be inspected for compliance with the Animal Welfare Act, regulations and standards to ensure the health\\nand well-being of the animals. A responsible person must be available to accompany the inspector on an animal\\nwelfare inspection.\\nCorrect from this day forward.”\\n(Contacted licensee by phone at the airport and he said he was 2 hours away).',\n",
       " 'A facility employee transported by air from Florida to Oregon, via Chicago, two 3-week-old bobcats in-cabin with\\nhim. He is experienced in the care of young animals, including non-domestic felids. The CVI issued 5/19/2016\\ndocumented their age at 3 weeks. They were transported in a crate with blankets and a Snuggle Safe disc\\n(warmer), and were fed every three hours for the duration. At the time of this focused inspection, the bobcats were\\nabout 4 weeks old, and held in a transport-type crate with blankets and a Snuggle Safe disc. Surface temperature of\\nthe bedding in the crate was 76.5 degrees. The cubs were bright and alert and moving around normally.\\nIt has been determined that transporting neonatal (<4 weeks old) nondomestic cats is not consistent with safe\\nhandling and protecting them from harm. The moving of the enclosure and the noise of the planes and the crowds\\ncan cause behavioral stress and discomfort. In addition, neonatal animals are not considered to have competent\\nimmune systems until they have had a series of vaccinations. They were potentially exposed to pathogens from\\nother animals and people on the planes and in the airports.\\nCorrect by no longer transporting neonatal animals, from this point on.\\nThis focused inspection and exit briefing was conducted with the licensees and facility personnel.\\nA revised exit briefing was conducted by telephone.',\n",
       " 'On Mar 27, 2019 China Eastern Airlines 93-T-0067 transport 29 dogs to JFK airport in NYC. Flight 587. Upon\\narrival the transport cages were inspected and did not have the certification that the animals were offered food and\\nwater during the 4 hours before delivery to the carrier and the certification must be securely attached to the outside\\nof the kennel. . These animals were transported as checked baggage and did not have an airway bill number,\\nhowever there is an ACE number for post entry ADM 00502952\\nWhile the transport kennels did have both food and water bottles, there was no evidence of food present and the\\ndogs drank readily when offered water .\\nCarriers must not accept a dog or cat for transport in commerce unless the consignor certifies in writing to the\\ncarrier that the dog was offered food and water during the 4 hours before delivery to the carrier. The certification\\nmust be securely attached to the outside of the primary enclosure in a manner that makes it easily noticed and read.',\n",
       " 'On Mar 27, 2019 China Eastern Airlines 93-T-0067 transport 29 dogs to JFK airport in NYC. Flight 587. Upon\\narrival the 29 transport cages were inspected it was noticed there were no live animal stickers or arrows to indicate\\nthe correct upright position. These animals were transported as checked baggage and did not have an airway bill\\nnumber, however there is an ACE number for post entry ADM 00502952\\nUnless the enclosure is permanently affixed to the conveyance it is clearly marked on top and one or more sides\\nwith the words “Live Animals” in letters at least 1 in high and with arrows or other markings to indicate the correct\\nupright position of the primary enclosure.',\n",
       " 'On Mar 27, 2019 China Eastern Airlines 93-T-0067 transport 29 dogs to JFK airport in NYC. Flight 587. Upon\\narrival the 29 transport cages were inspected it was noticed there was no litter to absorb and cover excreta. The\\ninterior bottom of the transport kennels appeared wet when the dogs were taken out of the transport kennels..\\nThese animals were transported as checked baggage and did not have an airway bill number, however there is an\\nACE number for post entry ADM 00502952.\\nUnless the dogs and cats are on raised slatted floors or raised floors made of mesh, the primary enclosure must\\ncontain enough previously unused litter to absorb and cover excreta. The litter must be of a suitably absorbent\\nmaterial that is safe and nontoxic to the dogs and cats.',\n",
       " 'Item 3.14 e 1\\nOn Mar 27, 2019 China Eastern Airlines 93-T-0067 transport 29 dogs to JFK airport in NYC. Flight 587. When\\ninspected and sized against the transport cages 9 of the 29 dogs were too large for the kennels they had been\\ntransported in. These animals were transported as checked baggage and did not have an airway bill number,\\nhowever there is an ACE number for post entry ADM 00502952. Upon inspection of the dogs, their head exceeded\\nthe height of the transport kennel as well as being too long for the transport kennel.\\nPrimary enclosures used to transport live dogs and cats must be large enough to ensure that each animal contained\\nin the primary enclosure has enough space to turn about normally while standing to stand and sit erect, and to lie in\\na natural position.\\nExit interview took place with airline representative.',\n",
       " \"On July 26th, 2019, a young French bulldog was transported from Amsterdam to Boston on KLM Flight 617 on air\\nwaybill #074-27691145. According to documentation accompanying the animal, the dog was observed and food and\\nwater were offered at 15:00 CEST in Amsterdam, prior to a scheduled departure at 17:00 CEST. There was a 36\\nminute flight delay, according to publicly available flight information, and the plane departed the gate at 17:36\\nCEST, taking off at 17:57 CEST. This flight landed at Boston Logan International airport at 18:45 EDT after a flight\\ntime of 7 hours and 20 minutes, and the plane arrived at the gate in Boston at 18:56 EDT. Recorded temperatures\\non July 26th reached 97 degrees Fahrenheit at Schiphol International Airport in Amsterdam, and at 16:00 CEST it\\nwas 86 degrees. The temperature was 81 degrees Fahrenheit at Boston Logan International Airport. At 19:38 EDT,\\nthe KLM duty manager on the aircraft notified the intermediate handler that there was a deceased pet on board the\\naircraft.\\nPost-mortem findings revealed that this animal was at high risk for heat stroke due to the unique upper airway\\nanatomy of brachycephalic breeds like French bulldogs. The necropsy report concludes that the cause of death was\\nrespiratory distress and heat stroke.\\nWhile in transport, this animal was subjected to a combination of temperature and time that was detrimental to the\\nanimal's health, especially considering the known susceptibility of this breed to heat-related health problems. The\\ncombination of these climatic conditions, compounded with known risk factors associated with this breed of dog,\\nresulted in the death of this animal. When climatic conditions present a threat to an animal's health or well-being,\\nappropriate measures must be taken to alleviate the impact of these conditions. An animal may never be subjected\\nto any combination of temperature, humidity, and time that is detrimental to the animal's health or well-being, taking\\ninto consideration such factors as the animal's age, species, breed, health status, and acclimation.\\nThis inspection was conducted at the cargo handling office at Boston Logan Airport. A final exit interview was\\nconducted by phone on 8/12/19 with a representative of the registrant.\",\n",
       " 'Item Primary Enclosure 3.14 a 6\\nOn Sept 29, 2020 Aeroflot airlines flt 102 to NYC JFK airport transported a cat as checked baggage. The transport\\ncontainer did not have any up arrows to indicate the correct upright position of the primary enclosure, and only one live\\nanimal sticker on top of the enclosure, when there needs to be 1 or more live animal sticker as well .\\nThe placing of up arrows and live animal stickers are necessary and required to ensure the safety and well being of the\\nanimal when the enclosure is not permanently affixed to the conveyance.',\n",
       " 'Item Primary Enclosure 3.16 c\\nOn Sept 29, 2020 Aeroflot airlines flt 102 to NYC JFK airport transported one cat as checked baggage. the transport\\ncontainer had only 1 receptacle for food or water without having both, the animal could not have both food and water\\noffered during transport . Transport containers must have both food and water receptacles which must be securely\\nattached inside the primary enclosure so they can be refilled without opening the enclosure.',\n",
       " 'Two 5 month old German Sheppard puppies arrived at DFW airport from Prague via Lufthansa flight 438 on Aug 11,\\n2017. These puppies were shipped in the same kennel. The interior dimensions of the kennel were approximately\\n28”x16”x24”. According to online information the kennel weighed 18 lbs. The total weight of the kennel and\\npuppies was 59.4 lbs. This means one or both puppies weighed at least 20 lbs. Although AWA regulations allow\\npuppies under 6 months of age and weighing 20 lbs or less to be shipped in the same enclosure, the enclosure\\nmust be large enough to ensure that each animal contained in the enclosure has enough space to turn about\\nnormally while standing, to stand and sit erect, and to lie in a natural position.\\nWhen viewing the picture provided by CBP it does not appear these puppies had enough room to stand or lie down\\nat the same time without coming into contact with the urine and feces in the back of the kennel. These puppies\\nshould not have been shipped in the same kennel. At least one of the puppies is over the maximum weight allowed\\nto ship more than one puppy in the same kennel. Even if both puppies had been slightly under 20 lbs this kennel is\\nnot large enough for these two puppies to fit comfortably for a flight from Prague to DFW which is at least 14 hours.\\nLufthansa employees need to ensure animals being shipped are in the appropriate sized crates.\\nTo be corrected by: Aug 18, 2017\\nThis inspection and exit interview were conducted with a facility representative.',\n",
       " '3.15 (c) 2 Critical\\nOn 17-Mar-2021 LOT Polish Airlines transported a dog, according to accompanying health records was born 20-Nov-\\n2020, to NYC JFK airport on AWB 080-35549791. Upon arrival into JFK the dog was found deceased. An examination of\\nthe transport kennel showed ventilation openings totaling 20% with 33% of the front, 9% of both side walls, and 16% of\\nthe back wall consisting of openings. The front and back side of the kennel were flat and did not have projecting rims.\\nThe lack of projecting rims on those sides created an enclosure with functionally inadequate ventilation had other cargo\\nbeen stacked against it. Projecting rims or similar devices must be located on the exterior of each enclosure wall having a\\nventilation opening to prevent obstruction of the openings.\\nThis inspection and exit interview were conducted with facility representative.\\nEnd Section',\n",
       " 'Item 2.25 a\\nOn Dec 6, 2020 Royal Air Maroc conducted a USDA regulated transport of a dog to JFK airport in NYC. The airline was\\nfound to be operating and transporting regulated animals without a valid certificate/registration. Each carrier must\\nregister with the Secretary of Agriculture by completing and filing a properly executed registration form; the registration\\nhas been furnished by this inspector.\\nNO REGULATED ACTIVITIES MAY BE CONDUCTED UNTIL A VALID REGISTRATION IS OBTAINED.\\nThis inspection and exit interview were conducted with the facility representative.\\nEnd Section',\n",
       " '**On 8-August-2022 Turkish Airlines transported 6 Boseron puppies on Flight 185 to O’Hare airport in Chicago as\\nchecked baggage. The puppies with a birth date of 03/28/2022 were transported in 2 separate carriers each containing 3\\npuppies. It is the responsibility of the airline to ensure that no more than 2 puppies between the ages of 8 weeks and 6\\nmonths, weighing 20 pounds or less are transported in the same primary enclosure to provide sufficient space allowing for\\nnormal postural movements.',\n",
       " '**On 8-August-2022 Turkish Airlines transported 6 Boseron puppies on Flight 185 to O’Hare airport in Chicago as\\nchecked baggage. At O’Hare, it was discovered that one of the primary enclosures used to transport the puppies did not\\nhave food and water receptacles attached.\\nIt is the responsibility of the airline to ensure that food and water receptacles are securely attached inside the primary\\nenclosure to allow access to food and water during transport without opening the door as set forth in this section.\\n**Unable to contact airline representative to conduct the exit interview.\\nAdditional Inspectors:\\nCHAD MOORE, Transportation Specialist n',\n",
       " \"On December 11, 2023, Turkish Airlines transported 1 Devon Rex hairless kitten, approximately 4 months old, to Los\\nAngeles airport (LAX) and was found deceased at time of arrival. According to documentation, AWB: 235-504-26051, the\\nflight began in Moscow (VKO) to Istanbul (IST) on flight TK420 with a final destination at LAX on flight TK179 on\\nDecember 12,2023. The flight time was approximately 19 to 20 hours, excluding wait times and loading and unloading of\\nthe kitten.\\nDocuments provided show 1 kitten was alive in VKO prior to boarding for LAX. Although the AWB states airplane cargo\\ntemperatures range from 59 to 77 degrees Fahrenheit (F), the facility representative has stated the temperature, altitude,\\nflight time, and cabin temperature values can vary between the minimum and the maximum values, depending on the\\namount and type of cargo. Therefore, short temperature deviations may occur during flight.\\nOn December 11, 2023 the temperature In Moscow ranged between 16-19 degrees F, 85% Humidity (H), in Istanbul 45-\\n54 degrees F, daily average 87% H, and at LAX, ranged between 50-68 degrees F, 88% H on December 12, 2023.\\nAccording to the documentation provided by the Center of Disease Control Los Angeles Quarantine Station, the kitten\\nwas deceased on arrival. The kitten’s transport crate was lined with a litter pad and additional padding. There were no\\nindications of added measures taken to protect the cat or reduce the effects from the potential rigors of travel including\\ntemperature fluctuations during this transport.\\nThe facility representative stated the airline has placed an embargo on transporting hairless cat breeds to LAX.\\nWhen climatic conditions present a threat to an animal's health or well-being, appropriate measures must be taken to\\nalleviate the impact of those conditions. An animal may never be subjected to any combination of temperature, humidity,\\nand time, that is detrimental to the animal's health or well-being, taking into consideration such factors as the animal's\\nage, species, breed, overall health status, and acclimation.\\nThis inspection and exit interview were conducted with the facility representative.\\nAdditional Inspectors:\\nTYLER FIELDS, VETERINARY MEDICAL OFFICER n\",\n",
       " 'Forty-one dogs arrived at JFK International Airport on February 13, 2023, from YNT airport on Asiana Airlines, flight OZ\\n587 (Air Waybill #988YNT45673224). The following primary enclosures contained loose hardware in the water receptacle\\nfrom parts of the lixit water bottle, housing an English bulldog, “Erica” (enclosure #8970, microchip #900239877798970),\\nand a golden retriever, “Ethan” (enclosure #3771, microchip #9002398778037711). In addition, one primary enclosure\\nhousing a golden retriever, “Kimy” (enclosure #3366, microchip #900239877803366), contained protruding wires where\\nthe food receptacle was attached to the enclosure door. Loose hardware can result in a choking hazard to the animals\\ncontained within. Wire sharp points can injure dogs in enclosure. Primary enclosure must be constructed so that there are\\nno sharp points or loose hardware that could injure the dogs while transported.',\n",
       " 'Forty-one dogs arrived at JFK International Airport on February 13, 2023, from YNT airport on Asiana Airlines, flight OZ\\n587 (Air Waybill #988YNT45673224). The following primary enclosures had inadequate bedding to absorb and cover\\nexcreta housing, an English bulldog, “Erica” (enclosure #8970, microchip #900239877798970), a poodle, “Kale”\\n(enclosure #3563, microchip #900239877803563), a corgi “Xiaoke” (enclosure #3626, microchip #900219001383626),\\nand a border collie (listed as mix breed) “Monica” (enclosure #3603, microchip #900239877803603). Some enclosures\\nlisted above had balled-up shredded wet paper in the corners and some had very little shredded bedding to cover the\\nenclosure floor. Direct contact with excreta for several days presents uncomfortable conditions, may cause dogs to\\nbecome soiled, can cause strong odors, and can expose dogs to disease hazards. Carriers must ensure that primary\\nenclosures with solid floors contain enough previously unused litter material to absorb and cover excreta. The litter\\nmaterial must be of a suitably absorbent material that is safe and nontoxic.',\n",
       " 'Forty-one dogs arrived at JFK International Airport on February 13, 2023, from YNT airport on Asiana Airlines, flight OZ\\n587 (Air Waybill #988YNT45673224). At least 7 primary enclosures had food and/or water receptacles detached from the\\nwire door and the receptacle were present on the primary enclosure floor. At least 4 enclosures were missing food\\nreceptacles. Food and water receptacles not securely attached inside the primary enclosure prevents the containers from\\nbeing filled from outside of the primary enclosure. This compromises the dogs’ access to food and water during transit.\\nFood and water receptacles must be securely attached inside the primary enclosure and placed so that the receptacles\\ncan be filled from outside the enclosure without opening the door.\\nThis inspection was conducted with animal facility representatives. The exit briefing was conducted with an airline\\nrepresentative on 2/16/2023.\\nAdditional Inspectors:\\nROBERT MARKMANN, ANIMAL CARE INSPECTOR n',\n",
       " 'Three kennels containing a total of six puppies, two per kennel, were shipped from Colombia to Fort Lauderdale\\nairport on 11- 2, 2016. As of 11-3, 2016 the animals were still housed in their original kennels at Consolidated\\nAviation Services (CAS). The staff at the facility stated that they had not removed the dogs for cleaning, litter\\nreplacement or switched them into clean kennels. These puppies had been in transit for more than 24 hours. The\\nnewspaper bedding was excessively wet from urine and feces. If dogs are in transit for more than 24 hours, the\\nenclosures must be cleaned and any litter replaced, or other methods, such as moving the animals to another\\nenclosure, must be utilized to prevent the soiling of the dogs by body wastes.\\nThe consignee did pick up the puppies prior to my exit from the premises around 3pm on 11-3-2016.',\n",
       " 'Item Handling 3.19 b\\nOn Apr 1 2015 Etihad airlines a cat AWB 607-6189-3020 from Abu Dhabi to JFK airport in New York. The animals\\narrived and was offloaded onto a dolly and secured on a pallet with straps , personnel said there was no damage to\\nthe kennel. Somewhere during the transportation back to the cargo area the animals escaped and it appears the\\ncage was broken.\\nPersonnel handling a live animal must avoid causing harm or distress during transport.\\nAn exit interview took place at the end of inspection .\\nelectronic version of word inspection report',\n",
       " 'A responsible adult was not available to accompany APHIS Officials during the inspection process at 1040 on\\n28-FEB-18.\\nInspector arrival to facility at 1040. No personnel present at facility. Called contact #s and left messages. Owner\\ncontact made on second call to primary number. Owner stated they were leaving on a flight at the airport and\\nwould not be available to conduct inspection today. Inspector departure from facility at 1115.',\n",
       " 'Section 2.126(b) - Access and inspection of records and property: A responsible adult shall be made available to\\naccompany APHIS officials during the inspection process.\\nA responsible adult was not available to accompany APHIS Officials during the inspection process at 12:00 PM on\\n11/19/2014.\\nRegistrant lists address at 530 Water Street (Port of Oakland office), but no one there knows of Endeavor Air. At the\\nairport the Administrative Office does not know of Endeavor Air. The Endeavor Air phone line says all reservations\\nare made through Delta, but upon visiting the Delta cargo office and ticket counter no one could be found who knew\\nof Endeavor Air. Repeated phone messages to the number provided to USDA / APHIS / Animal Care have not\\nresulted in any returned calls as requested. Unable to complete an inspection for this site, as no responsible person\\nor location can be identified.',\n",
       " 'A responsible adult was not available to accompany APHIS Officials during the inspection process at 2:00 pm on\\n30-Apr-18.\\nThis company do not flight at this time from this airport.',\n",
       " 'A responsible adult was not available to accompany APHIS Officials during the inspection process at 12:00 noon on\\n02-MAY-18.\\nThis company do not flight at this time from this airport.',\n",
       " 'Dogs have been transported by this airline . The airline is not registered as a carrier with USDA.\\nAny carrier, which means the operator of an airline which is engaged in the business of transporting animals for\\nhire, shall register with USDA by completing a registration form which is submitted to the Animal Care Regional\\nDirector.\\nThe inspection and briefing about registration as a carrier was conducted with airport employees and customs\\nagents.',\n",
       " 'Item Care in transit 3.17 c\\nOn Dec 7 2017 Ukraine International Airlines transported 7 dogs under 4 different airway bills. One dog a French\\nbulldog about 5 months of age, on AWB 566 1430 8733, was found dead upon arrival at JFK airport in NYC, the\\nflight had been delayed some 9 hours before arriving at JFK airport, short nosed breed dogs require extreme care\\nand observation during transport.\\nThe USDA APHIS VMO,the cargo sales representative and the Director of Ukraine airlines in Kiev Ukraine had a\\nphone conversation on Dec 14, concerning this incident The airline has instituted a canine embargo on flights as\\nwell as requested a necropsy of the dog which is still pending and they are also reviewing the handling\\nprocedures for animals.\\nAn inspection and exit interview took place with both the cargo sales rep and the Director of Ukraine airlines via\\nconference call',\n",
       " 'A responsible adult was not available to accompany APHIS Officials during the inspection process at 1320 on\\n02-Feb-18.\\nArrived at facility at 13:20. Rang doorbell - several dogs barking loudly at front door. Called owner. Owner stated\\nunavailable for inspection today - taking person to airport and could not return within 30 minute inspection window.\\nAdvised owner of attempted inspection and report would be emailed. Departed premises at 1330.',\n",
       " 'This SEARCH inspection was a focused inspection to verify the conduction of un-registered AWA Regulated activity\\nby Cabo Verde Airlines (aka “TACV”).\\nInformation was received by APHIS Animal Care in November 2016 that Cabo Verde Airlines was transporting\\nanimals into the Providence, RI airport housed inside kennels that were transported as cargo in the hold of the\\nplanes. Although there were no animals in transit on the incoming flight or the outgoing flight on the day of the\\ninspection, several personnel at the Cabo Verde Airlines ticket counter acknowledged that dogs have in fact been\\ntransported as cargo in kennels inside the hold of the planes on both incoming and outgoing flights through the\\nProvidence airport.\\nPer this Section of the Regulations, the transportation of animals as cargo by air is an activity regulated by the\\nAnimal Welfare Act and a valid USDA registration as a Class “T” carrier is required. Carriers that transport animals\\nas cargo must be registered with the USDA to ensure compliance with the transportation standards and to ensure\\nthe welfare of the animals being transported.\\nThe airline must complete the new registration form that will be sent by the Regional Office and then promptly return\\nit to the Eastern Regional Office for processing prior to any further transportation of animals by the airline.\\nNO REGULATED ACTIVITIES MAY BE CONDUCTED UNTIL A VALID USDA REGISTRATION IS OBTAINED.\\nNOTE – Exit briefing held on-site 3/28/17 at the Providence airport ticket counter with representatives of the airline.',\n",
       " 'The facility was identified as a courier that delivers rabbits from the San Diego airport to local research facilities\\nduring a routine inspection of a local research facility.\\nThese transportations occurred without an active registration. It is critical for intermediate handlers to register with\\nUSDA to allow adequate regulatory oversight. The facility shall file an initial registration form and update it every 3\\nyears to maintain their status as an intermediate handler with USDA.\\nCorrect by registering with the USDA as an intermediate handler prior to any further transportation of regulated\\nanimals.\\nNO REGULATED ACTIVITIES MAY BE CONDUCTED UNTIL A VALID USDA REGISTRATION IS OBTAINED.\\nAn exit interview was conducted by phone with the owner on December 20, 2016, and a registration packet was\\nsent by the office on 21 December, 2016.',\n",
       " 'The facility was identified as a courier that delivers rabbits from the San Diego airport to local research facilities\\nduring a routine inspection of the local airport. On average, this facility is picking up rabbits once per week from\\nAlaska Airlines Cargo and delivering them to local research facilities.\\nThese transportations occurred without an active registration. It is critical for intermediate handlers to register with\\nUSDA to allow adequate regulatory oversight. The facility shall file an initial registration form and update it every 3\\nyears to maintain their status as an intermediate handler with USDA.\\nCorrect by registering with the USDA as an intermediate handler prior to any further transportation of regulated\\nanimals.\\nNO REGULATED ACTIVITIES MAY BE CONDUCTED UNTIL A VALID USDA REGISTRATION IS OBTAINED.',\n",
       " '3.19 a Terminal Facilities Placement\\nOn June 23rd, 2021 Worldwide Flight services received dogs in transport from Aeroflot Airlines at cargo building 75 JFK\\nairport in New York. The primary enclosures containing dogs were held in an area of the cargo building where other\\ncargo items were commingled. This resulted in fork- lift trucks being driven around the primary enclosures containing\\ndogs, which has potential to cause harm and stress to the animals.\\nRegistrant needs to ensure that live animals are not commingled with inanimate cargo in animal holding areas.\\nThis inspection and exit interview were conducted with the facility representative .\\nEnd Section',\n",
       " 'A responsible adult was not available to accompany APHIS Officials during the inspection process at 10:30 AM on 2\\nAugust, 2023. Called contact number at 10:30AM and 11:36AM, left messages both times, address is within secured area\\nof the airport and no call back was received to get an escort into the secured area.\\nEnd Section',\n",
       " 'Item primary enclosures 3.15 a 6\\nOn 4-June-2021, Egyptair transported a kitten on flight 985 to JFK airport in New York as checked baggage. At JFK, it\\nwas discovered the animal arrived deceased. There were no “Live Animals” in letters on the primary enclosure used to\\ntransport the animal nor any arrows or other markings to indicate the correct upright position of the primary enclosure.\\nThe airline must ensure that primary enclosures used in transport of live animals are adequately marked to maintain the\\ncorrect position, care, and safety of animals during transport.',\n",
       " 'Item Primary Enclosures 3.15 a 8\\nOn 4-June-2021, Egyptair transported a kitten on flight 985 to JFK airport in New York as checked baggage. At JFK, it\\nwas discovered the animal arrived deceased.\\nThe bottom half of the primary enclosure used to transport the kitten had been covered in solid plastic wrap which\\nobstructed and prevented the flow of air and ventilation to the animal. This kitten was a short-nosed breed which further\\nrequired unobstructed ventilation.\\nThe airline must ensure proper ventilation is provided, in that there are no obstructions of the ventilation openings of the\\nprimary enclosure that will inhibit the free flow of adequate ventilation to the animal.',\n",
       " 'Item Primary Enclosure 3.15 a 9\\nOn 4-June-2021, Egyptair transported a kitten on flight 985 to JFK airport in New York as checked baggage. At JFK, it\\nwas discovered the animal arrived deceased. Upon arrival, the kitten’s hind legs, fore limbs, chest, and muzzle were wet\\nand there was no absorbent material in the kennel to cover excreta or urine.\\nThe airline must ensure that primary enclosures used in transport of live animals contain enough previously unused litter\\nto absorb and cover excreta and that the material is safe to the animal.',\n",
       " 'Item Food and water requirements 3.17 c\\nOn 4-June-2021 Egyptair transported a kitten on flight 985 to JFK airport in New York as checked baggage. At JFK, it\\nwas discovered the animal arrived deceased. The primary enclosure used to transport the kitten did not have food and\\nwater receptacles attached.\\nThe airline must ensure that food and water receptacles are securely attached inside the primary enclosure so the\\nreceptacles can be filled during transport without opening the door to fulfill the food and water requirements of the animal.\\nThis inspection and exit interview were conducted with the facility representative.\\nEnd Section',\n",
       " 'Item 2.25 a\\nOn July 19, 2021 Triangle services delivered 2 cats from the cargo facility at JFK airport to transport them to the handlers\\nat the airplane for travel to SAN in California. Triangle Services is not registered with the USDA, a requirement for\\ntransport of USDA regulated animals in commerce.\\nTriangle services needs to complete the application as USDA class H, Intermediate Handler and submit it to the address\\nbelow.\\nUSDA-APHIS-AC\\n2150 Centre Ave\\nBuilding B 3W11\\nFt Collins, Colorado 80526',\n",
       " 'Item 3.15 a 1 Primary enclosure used to transport live dogs and cats\\nOn July 19, 2021, Triangle services delivered 2 cats in transport from the cargo facility at JFK airport to the airplane of\\nAlaska Airlines flt 393. During this transport one of the cats was able to escape out of his primary enclosure as well as\\nthe transport cart that Triangle Services was using to transport the animals from cargo to the airplane. This animal was\\neventually safely recovered .\\nTransporters conducting regulated activity must ensure that the primary enclosure containing the animal is strong enough\\nto securely contain the animal and withstand the rigors of transportation.\\nThis inspection and exit interview were conducted with the facility representative.\\nEnd Section',\n",
       " 'During an inspection at RDU airport, the inspector learned that animals moving from above-wing to below-wing for two\\nairlines were being handled by an intermediate group, Superior. Subsequent conversations with Superior personnel\\nrevealed that they are not currently registered as a handler with USDA Animal Care. The employee stated that Superior\\nwill immediately apply for a registration. Handling animals in an airport moving from above-wing to below-wing without the\\nrequired regulatory oversight can lead to unregulated handling of animals, putting the animals at risk of unnecessary\\nbehavioral stress, trauma, escape, physical harm, or loss of life. The regulations require that each carrier and\\nintermediate handler register with the Secretary by completing and filing a properly executed form which will be furnished,\\nupon request, by the Deputy Administrator.\\nConducting regulated activity without a valid registration violates the Federal Animal Welfare Act.\\nNo regulated activity can be conducted until a valid registration certificate is issued by USDA Animal Care.\\nThis inspection and exit interview were conducted with the facility representative.\\nn']"
      ]
     },
     "execution_count": 8,
     "metadata": {},
     "output_type": "execute_result"
    }
   ],
   "source": [
    "citations[citations['narrative'].str.contains('airport')]['narrative'].tolist()"
   ]
  },
  {
   "cell_type": "markdown",
   "id": "da291f27",
   "metadata": {},
   "source": [
    "## Creating Air Transport Flag Column"
   ]
  },
  {
   "cell_type": "code",
   "execution_count": null,
   "id": "8dff3ea5",
   "metadata": {},
   "outputs": [],
   "source": [
    "citations['flag_air_transport'] = citations['flag_cond_1']\n",
    "citations['flag_air_transport'].value_counts()"
   ]
  },
  {
   "cell_type": "markdown",
   "id": "61963e75",
   "metadata": {},
   "source": [
    "## Spot-Checking Flag"
   ]
  },
  {
   "cell_type": "code",
   "execution_count": null,
   "id": "2bc02ec9",
   "metadata": {},
   "outputs": [],
   "source": [
    "# Spot-check positives\n",
    "citations[citations['flag_air_transport'] == True]['narrative'].sample(100).tolist()"
   ]
  },
  {
   "cell_type": "code",
   "execution_count": null,
   "id": "1c0e4f81",
   "metadata": {},
   "outputs": [],
   "source": [
    "# Spot-check negatives\n",
    "citations[citations['flag_air_transport'] == False]['narrative'].sample(100).tolist()"
   ]
  },
  {
   "cell_type": "code",
   "execution_count": null,
   "id": "da568c66",
   "metadata": {},
   "outputs": [],
   "source": [
    "# Save citations with new flag column\n",
    "citations.to_csv('../flagged_citations/air_transport.csv', index=False)"
   ]
  }
 ],
 "metadata": {
  "kernelspec": {
   "display_name": "Python 3 (ipykernel)",
   "language": "python",
   "name": "python3"
  },
  "language_info": {
   "codemirror_mode": {
    "name": "ipython",
    "version": 3
   },
   "file_extension": ".py",
   "mimetype": "text/x-python",
   "name": "python",
   "nbconvert_exporter": "python",
   "pygments_lexer": "ipython3",
   "version": "3.11.7"
  }
 },
 "nbformat": 4,
 "nbformat_minor": 5
}
