{
 "cells": [
  {
   "cell_type": "code",
   "execution_count": null,
   "id": "7bdda29f",
   "metadata": {},
   "outputs": [],
   "source": [
    "import numpy as np\n",
    "import pandas as pd\n",
    "from sklearn.model_selection import train_test_split\n",
    "from sklearn.feature_extraction.text import TfidfVectorizer\n",
    "from sklearn.naive_bayes import MultinomialNB\n",
    "from sklearn.metrics import accuracy_score, classification_report, recall_score\n",
    "from sklearn.model_selection import GridSearchCV\n",
    "\n",
    "\n",
    "import nltk\n",
    "from nltk.tokenize import word_tokenize\n",
    "from nltk.corpus import stopwords\n",
    "from nltk.stem import PorterStemmer\n",
    "\n",
    "nltk.download(\"punkt\")\n",
    "nltk.download(\"stopwords\")\n",
    "import xgboost as xgb"
   ]
  },
  {
   "cell_type": "markdown",
   "id": "ee6ffd69",
   "metadata": {},
   "source": []
  },
  {
   "cell_type": "markdown",
   "id": "5c52fd77",
   "metadata": {},
   "source": [
    "# Air Transport Classifier"
   ]
  },
  {
   "cell_type": "code",
   "execution_count": null,
   "id": "dd7be30e",
   "metadata": {},
   "outputs": [],
   "source": [
    "data = pd.read_csv('../flagged_citations/air_transport.csv')\n",
    "data = data.drop(columns=['Unnamed: 0'])\n",
    "data.head()"
   ]
  },
  {
   "cell_type": "code",
   "execution_count": null,
   "id": "f5cb7868",
   "metadata": {},
   "outputs": [],
   "source": [
    "X = data['narrative'].astype(str).apply(lambda x: x.lower())\n",
    "y = data['flag_air_transport'].astype(int)\n",
    "y.value_counts()"
   ]
  },
  {
   "cell_type": "code",
   "execution_count": null,
   "id": "828a0222",
   "metadata": {},
   "outputs": [],
   "source": [
    "# Split the data into training and testing sets\n",
    "X_train, X_test, y_train, y_test = train_test_split(X, y, test_size=0.2, random_state=42)"
   ]
  },
  {
   "cell_type": "code",
   "execution_count": null,
   "id": "72a97ec2",
   "metadata": {},
   "outputs": [],
   "source": [
    "def preprocess_text(text):\n",
    "    tokens = word_tokenize(text)\n",
    "    stop_words = set(stopwords.words(\"english\"))\n",
    "    filtered_tokens = [token.lower() for token in tokens if token.isalpha() and token.lower() not in stop_words]\n",
    "    stemmer = PorterStemmer()\n",
    "    stemmed_tokens = [stemmer.stem(token) for token in filtered_tokens]\n",
    "    return \" \".join(stemmed_tokens)"
   ]
  },
  {
   "cell_type": "code",
   "execution_count": null,
   "id": "753cdfb7",
   "metadata": {},
   "outputs": [],
   "source": [
    "X_train_preprocessed = [preprocess_text(text) for text in X_train]\n",
    "vectorizer = TfidfVectorizer()\n",
    "X_train_transformed = vectorizer.fit_transform(X_train_preprocessed)\n",
    "X_train_transformed.shape"
   ]
  },
  {
   "cell_type": "code",
   "execution_count": null,
   "id": "279d6f77",
   "metadata": {},
   "outputs": [],
   "source": [
    "X_test_preprocessed = [preprocess_text(text) for text in X_test]\n",
    "X_test_transformed = vectorizer.transform(X_test_preprocessed)\n",
    "X_test_transformed.shape"
   ]
  },
  {
   "cell_type": "markdown",
   "id": "bba37e26",
   "metadata": {},
   "source": [
    "## Baseline Model"
   ]
  },
  {
   "cell_type": "code",
   "execution_count": null,
   "id": "a3318b5f",
   "metadata": {},
   "outputs": [],
   "source": [
    "# Convert the sparse matrix to DMatrix format used by XGBoost\n",
    "dtrain = xgb.DMatrix(X_train_transformed, label=y_train)\n",
    "dtest = xgb.DMatrix(X_test_transformed, label=y_test)\n",
    "\n",
    "sum_negative = (y_train == 0).sum()\n",
    "sum_positive = (y_train == 1).sum()\n",
    "scale_pos_weight = sum_negative / sum_positive\n",
    "\n",
    "# XGBoost parameters\n",
    "params = {\n",
    "}\n",
    "\n",
    "# Train the XGBoost model\n",
    "model = xgb.train(params, dtrain, num_boost_round=100)"
   ]
  },
  {
   "cell_type": "code",
   "execution_count": null,
   "id": "070d55df",
   "metadata": {},
   "outputs": [],
   "source": [
    "# Make predictions on the test set\n",
    "y_pred = model.predict(dtest)\n",
    "\n",
    "# Convert the predictions to integers\n",
    "y_pred = y_pred.astype(int)\n",
    "\n",
    "# Evaluate the classifier\n",
    "accuracy = accuracy_score(y_test, y_pred)\n",
    "print(f'Accuracy: {accuracy:.2f}')\n",
    "\n",
    "# Display classification report\n",
    "print('\\nClassification Report:')\n",
    "print(classification_report(y_test, y_pred))"
   ]
  },
  {
   "cell_type": "markdown",
   "id": "205c73ac",
   "metadata": {},
   "source": [
    "## Model for Imbalanced Data"
   ]
  },
  {
   "cell_type": "code",
   "execution_count": null,
   "id": "d5b9822d",
   "metadata": {},
   "outputs": [],
   "source": [
    "# Split the data into training and testing sets\n",
    "X_train, X_test, y_train, y_test = train_test_split(X, y, test_size=0.2, random_state=42)\n",
    "\n",
    "X_train_preprocessed = [preprocess_text(text) for text in X_train]\n",
    "vectorizer = TfidfVectorizer()\n",
    "X_train_transformed = vectorizer.fit_transform(X_train_preprocessed)\n",
    "\n",
    "X_test_preprocessed = [preprocess_text(text) for text in X_test]\n",
    "X_test_transformed = vectorizer.transform(X_test_preprocessed)"
   ]
  },
  {
   "cell_type": "code",
   "execution_count": null,
   "id": "379825fa",
   "metadata": {},
   "outputs": [],
   "source": [
    "# Convert data to DMatrix format used by XGBoost\n",
    "dtrain = xgb.DMatrix(X_train_transformed, label=y_train)\n",
    "dtest = xgb.DMatrix(X_test_transformed, label=y_test)\n",
    "\n",
    "# XGBoost parameters\n",
    "params = {\n",
    "    'objective': 'binary:logistic',\n",
    "    'eval_metric': 'logloss',  # Use 'logloss' for binary classification\n",
    "    'max_depth': 3,\n",
    "    'learning_rate': 0.1,\n",
    "    'n_estimators': 100,\n",
    "    'scale_pos_weight': sum(y_train == 0) / sum(y_train == 1),  # Adjust for class imbalance\n",
    "}\n"
   ]
  },
  {
   "cell_type": "code",
   "execution_count": null,
   "id": "d47918f6",
   "metadata": {},
   "outputs": [],
   "source": [
    "# Train the XGBoost model\n",
    "model = xgb.train(params, dtrain, num_boost_round=100)\n",
    "\n",
    "# Make predictions on the test set\n",
    "y_pred_prob = model.predict(dtest) "
   ]
  },
  {
   "cell_type": "code",
   "execution_count": null,
   "id": "9c932a90",
   "metadata": {},
   "outputs": [],
   "source": [
    "# Choose a threshold that maximizes recall\n",
    "thresholds = [0.1, 0.2, 0.3, 0.4, 0.5, 0.6, 0.7, 0.8, 0.9]\n",
    "best_recall = 0\n",
    "best_threshold = 0\n",
    "\n",
    "for threshold in thresholds:\n",
    "    y_pred = [1 if prob > threshold else 0 for prob in y_pred_prob]\n",
    "    current_recall = recall_score(y_test, y_pred)\n",
    "\n",
    "    if current_recall > best_recall:\n",
    "        best_recall = current_recall\n",
    "        best_threshold = threshold\n",
    "\n",
    "# Use the best threshold\n",
    "y_pred = [1 if prob > best_threshold else 0 for prob in y_pred_prob]\n",
    "\n",
    "# Evaluate the classifier\n",
    "print(f'Best Threshold for Max Recall: {best_threshold}')\n",
    "print('\\nClassification Report:')\n",
    "print(classification_report(y_test, y_pred))"
   ]
  },
  {
   "cell_type": "markdown",
   "id": "b0ff6d5d",
   "metadata": {},
   "source": [
    "## Using Classifier to Find \"Missed\" Cases of Air Transport"
   ]
  },
  {
   "cell_type": "code",
   "execution_count": null,
   "id": "b9c17cd6",
   "metadata": {},
   "outputs": [],
   "source": [
    "X_preprocessed = [preprocess_text(text) for text in X]\n",
    "X_transformed = vectorizer.transform(X_preprocessed)\n",
    "X_transformed.shape"
   ]
  },
  {
   "cell_type": "code",
   "execution_count": null,
   "id": "02b485ad",
   "metadata": {},
   "outputs": [],
   "source": [
    "dX = xgb.DMatrix(X_transformed, label=y)"
   ]
  },
  {
   "cell_type": "code",
   "execution_count": null,
   "id": "ea927bd8",
   "metadata": {},
   "outputs": [],
   "source": [
    "# Make predictions on the test set\n",
    "y_pred_prob = model.predict(dX)\n",
    "best_threshold = 0.1\n",
    "y_pred = [1 if prob > best_threshold else 0 for prob in y_pred_prob]"
   ]
  },
  {
   "cell_type": "code",
   "execution_count": null,
   "id": "db7018cc",
   "metadata": {},
   "outputs": [],
   "source": [
    "# Evaluate the classifier\n",
    "accuracy = accuracy_score(y, y_pred)\n",
    "print(f'Accuracy: {accuracy:.2f}')\n",
    "\n",
    "# Display classification report\n",
    "print('\\nClassification Report:')\n",
    "print(classification_report(y, y_pred))"
   ]
  },
  {
   "cell_type": "code",
   "execution_count": null,
   "id": "b617c323",
   "metadata": {},
   "outputs": [],
   "source": [
    "# Identified positive cases\n",
    "df = pd.DataFrame()\n",
    "df['narrative'] = X\n",
    "df['air_transport_pred'] = y_pred\n",
    "df['flag_air_transport'] = y"
   ]
  },
  {
   "cell_type": "code",
   "execution_count": null,
   "id": "e96f2437",
   "metadata": {},
   "outputs": [],
   "source": [
    "df['air_transport_pred'].value_counts()"
   ]
  },
  {
   "cell_type": "code",
   "execution_count": null,
   "id": "64dc11e3",
   "metadata": {},
   "outputs": [],
   "source": [
    "# Writing predictions to csv\n",
    "df[(df['air_transport_pred'] == 1) & (df['flag_air_transport'] == 0)]['narrative'].to_csv('./classifier_predictions/air_transport.csv')"
   ]
  },
  {
   "cell_type": "code",
   "execution_count": null,
   "id": "927c2878",
   "metadata": {},
   "outputs": [],
   "source": []
  }
 ],
 "metadata": {
  "kernelspec": {
   "display_name": "Python 3 (ipykernel)",
   "language": "python",
   "name": "python3"
  },
  "language_info": {
   "codemirror_mode": {
    "name": "ipython",
    "version": 3
   },
   "file_extension": ".py",
   "mimetype": "text/x-python",
   "name": "python",
   "nbconvert_exporter": "python",
   "pygments_lexer": "ipython3",
   "version": "3.11.7"
  }
 },
 "nbformat": 4,
 "nbformat_minor": 5
}
