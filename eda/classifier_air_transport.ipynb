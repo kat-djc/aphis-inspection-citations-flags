{
 "cells": [
  {
   "cell_type": "code",
   "execution_count": 1,
   "id": "7bdda29f",
   "metadata": {},
   "outputs": [
    {
     "name": "stderr",
     "output_type": "stream",
     "text": [
      "[nltk_data] Downloading package punkt to /Users/kchua/nltk_data...\n",
      "[nltk_data]   Package punkt is already up-to-date!\n",
      "[nltk_data] Downloading package stopwords to /Users/kchua/nltk_data...\n",
      "[nltk_data]   Package stopwords is already up-to-date!\n"
     ]
    }
   ],
   "source": [
    "import numpy as np\n",
    "import pandas as pd\n",
    "from sklearn.model_selection import train_test_split\n",
    "from sklearn.feature_extraction.text import TfidfVectorizer\n",
    "from sklearn.naive_bayes import MultinomialNB\n",
    "from sklearn.metrics import accuracy_score, classification_report, recall_score\n",
    "from sklearn.model_selection import GridSearchCV\n",
    "\n",
    "\n",
    "import nltk\n",
    "from nltk.tokenize import word_tokenize\n",
    "from nltk.corpus import stopwords\n",
    "from nltk.stem import PorterStemmer\n",
    "\n",
    "nltk.download(\"punkt\")\n",
    "nltk.download(\"stopwords\")\n",
    "import xgboost as xgb"
   ]
  },
  {
   "cell_type": "markdown",
   "id": "5c52fd77",
   "metadata": {},
   "source": [
    "# Air Transport Classifier"
   ]
  },
  {
   "cell_type": "code",
   "execution_count": 2,
   "id": "dd7be30e",
   "metadata": {},
   "outputs": [
    {
     "data": {
      "text/html": [
       "<div>\n",
       "<style scoped>\n",
       "    .dataframe tbody tr th:only-of-type {\n",
       "        vertical-align: middle;\n",
       "    }\n",
       "\n",
       "    .dataframe tbody tr th {\n",
       "        vertical-align: top;\n",
       "    }\n",
       "\n",
       "    .dataframe thead th {\n",
       "        text-align: right;\n",
       "    }\n",
       "</style>\n",
       "<table border=\"1\" class=\"dataframe\">\n",
       "  <thead>\n",
       "    <tr style=\"text-align: right;\">\n",
       "      <th></th>\n",
       "      <th>hash_id</th>\n",
       "      <th>code</th>\n",
       "      <th>kind</th>\n",
       "      <th>repeat</th>\n",
       "      <th>desc</th>\n",
       "      <th>narrative</th>\n",
       "      <th>flag_cond_1</th>\n",
       "      <th>flag_air_transport</th>\n",
       "    </tr>\n",
       "  </thead>\n",
       "  <tbody>\n",
       "    <tr>\n",
       "      <th>0</th>\n",
       "      <td>c14125ba5346e5c4</td>\n",
       "      <td>3.125(a)</td>\n",
       "      <td>NaN</td>\n",
       "      <td>False</td>\n",
       "      <td>FACILITIES, GENERAL.</td>\n",
       "      <td>At the south farm, a goat was observed to jump...</td>\n",
       "      <td>False</td>\n",
       "      <td>False</td>\n",
       "    </tr>\n",
       "    <tr>\n",
       "      <th>1</th>\n",
       "      <td>090414fb43ad755a</td>\n",
       "      <td>2.33(b)(2)</td>\n",
       "      <td>NaN</td>\n",
       "      <td>False</td>\n",
       "      <td>ATTENDING VETERINARIAN AND ADEQUATE VETERINARY...</td>\n",
       "      <td>Two bottles of Heparin (one partially used, on...</td>\n",
       "      <td>False</td>\n",
       "      <td>False</td>\n",
       "    </tr>\n",
       "    <tr>\n",
       "      <th>2</th>\n",
       "      <td>553396bb9bd960ea</td>\n",
       "      <td>2.33(b)(2)</td>\n",
       "      <td>NaN</td>\n",
       "      <td>False</td>\n",
       "      <td>ATTENDING VETERINARIAN AND ADEQUATE VETERINARY...</td>\n",
       "      <td>One expired bottle of Isoflourane (expiration ...</td>\n",
       "      <td>False</td>\n",
       "      <td>False</td>\n",
       "    </tr>\n",
       "    <tr>\n",
       "      <th>3</th>\n",
       "      <td>6f536be1f760dfb6</td>\n",
       "      <td>3.125(a)</td>\n",
       "      <td>Critical</td>\n",
       "      <td>False</td>\n",
       "      <td>Facilities, general.</td>\n",
       "      <td>According to facility observational and/or hea...</td>\n",
       "      <td>False</td>\n",
       "      <td>False</td>\n",
       "    </tr>\n",
       "    <tr>\n",
       "      <th>4</th>\n",
       "      <td>d8fb5331fdf6ef92</td>\n",
       "      <td>2.32(a)</td>\n",
       "      <td>NaN</td>\n",
       "      <td>False</td>\n",
       "      <td>PERSONNEL QUALIFICATIONS.</td>\n",
       "      <td>In August 2015, a cynomolgus macaque placed un...</td>\n",
       "      <td>False</td>\n",
       "      <td>False</td>\n",
       "    </tr>\n",
       "  </tbody>\n",
       "</table>\n",
       "</div>"
      ],
      "text/plain": [
       "            hash_id        code      kind  repeat  \\\n",
       "0  c14125ba5346e5c4    3.125(a)       NaN   False   \n",
       "1  090414fb43ad755a  2.33(b)(2)       NaN   False   \n",
       "2  553396bb9bd960ea  2.33(b)(2)       NaN   False   \n",
       "3  6f536be1f760dfb6    3.125(a)  Critical   False   \n",
       "4  d8fb5331fdf6ef92     2.32(a)       NaN   False   \n",
       "\n",
       "                                                desc  \\\n",
       "0                               FACILITIES, GENERAL.   \n",
       "1  ATTENDING VETERINARIAN AND ADEQUATE VETERINARY...   \n",
       "2  ATTENDING VETERINARIAN AND ADEQUATE VETERINARY...   \n",
       "3                               Facilities, general.   \n",
       "4                          PERSONNEL QUALIFICATIONS.   \n",
       "\n",
       "                                           narrative  flag_cond_1  \\\n",
       "0  At the south farm, a goat was observed to jump...        False   \n",
       "1  Two bottles of Heparin (one partially used, on...        False   \n",
       "2  One expired bottle of Isoflourane (expiration ...        False   \n",
       "3  According to facility observational and/or hea...        False   \n",
       "4  In August 2015, a cynomolgus macaque placed un...        False   \n",
       "\n",
       "   flag_air_transport  \n",
       "0               False  \n",
       "1               False  \n",
       "2               False  \n",
       "3               False  \n",
       "4               False  "
      ]
     },
     "execution_count": 2,
     "metadata": {},
     "output_type": "execute_result"
    }
   ],
   "source": [
    "data = pd.read_csv('../flagged_citations/air_transport.csv')\n",
    "data = data.drop(columns=['Unnamed: 0'])\n",
    "data.head()"
   ]
  },
  {
   "cell_type": "code",
   "execution_count": 3,
   "id": "f5cb7868",
   "metadata": {},
   "outputs": [
    {
     "data": {
      "text/plain": [
       "flag_air_transport\n",
       "0    38362\n",
       "1      387\n",
       "Name: count, dtype: int64"
      ]
     },
     "execution_count": 3,
     "metadata": {},
     "output_type": "execute_result"
    }
   ],
   "source": [
    "X = data['narrative'].astype(str).apply(lambda x: x.lower())\n",
    "y = data['flag_air_transport'].astype(int)\n",
    "y.value_counts()"
   ]
  },
  {
   "cell_type": "code",
   "execution_count": 4,
   "id": "828a0222",
   "metadata": {},
   "outputs": [],
   "source": [
    "# Split the data into training and testing sets\n",
    "X_train, X_test, y_train, y_test = train_test_split(X, y, test_size=0.2, random_state=42)"
   ]
  },
  {
   "cell_type": "code",
   "execution_count": 5,
   "id": "72a97ec2",
   "metadata": {},
   "outputs": [],
   "source": [
    "def preprocess_text(text):\n",
    "    tokens = word_tokenize(text)\n",
    "    stop_words = set(stopwords.words(\"english\"))\n",
    "    filtered_tokens = [token.lower() for token in tokens if token.isalpha() and token.lower() not in stop_words]\n",
    "    stemmer = PorterStemmer()\n",
    "    stemmed_tokens = [stemmer.stem(token) for token in filtered_tokens]\n",
    "    return \" \".join(stemmed_tokens)"
   ]
  },
  {
   "cell_type": "code",
   "execution_count": 6,
   "id": "753cdfb7",
   "metadata": {},
   "outputs": [
    {
     "data": {
      "text/plain": [
       "(30999, 13695)"
      ]
     },
     "execution_count": 6,
     "metadata": {},
     "output_type": "execute_result"
    }
   ],
   "source": [
    "X_train_preprocessed = [preprocess_text(text) for text in X_train]\n",
    "vectorizer = TfidfVectorizer()\n",
    "X_train_transformed = vectorizer.fit_transform(X_train_preprocessed)\n",
    "X_train_transformed.shape"
   ]
  },
  {
   "cell_type": "code",
   "execution_count": 7,
   "id": "279d6f77",
   "metadata": {},
   "outputs": [
    {
     "data": {
      "text/plain": [
       "(7750, 13695)"
      ]
     },
     "execution_count": 7,
     "metadata": {},
     "output_type": "execute_result"
    }
   ],
   "source": [
    "X_test_preprocessed = [preprocess_text(text) for text in X_test]\n",
    "X_test_transformed = vectorizer.transform(X_test_preprocessed)\n",
    "X_test_transformed.shape"
   ]
  },
  {
   "cell_type": "markdown",
   "id": "bba37e26",
   "metadata": {},
   "source": [
    "## Baseline Model"
   ]
  },
  {
   "cell_type": "code",
   "execution_count": 8,
   "id": "a3318b5f",
   "metadata": {},
   "outputs": [],
   "source": [
    "# Convert the sparse matrix to DMatrix format used by XGBoost\n",
    "dtrain = xgb.DMatrix(X_train_transformed, label=y_train)\n",
    "dtest = xgb.DMatrix(X_test_transformed, label=y_test)\n",
    "\n",
    "sum_negative = (y_train == 0).sum()\n",
    "sum_positive = (y_train == 1).sum()\n",
    "scale_pos_weight = sum_negative / sum_positive\n",
    "\n",
    "# XGBoost parameters\n",
    "params = {\n",
    "}\n",
    "\n",
    "# Train the XGBoost model\n",
    "model = xgb.train(params, dtrain, num_boost_round=100)"
   ]
  },
  {
   "cell_type": "code",
   "execution_count": 9,
   "id": "070d55df",
   "metadata": {},
   "outputs": [
    {
     "name": "stdout",
     "output_type": "stream",
     "text": [
      "Accuracy: 1.00\n",
      "\n",
      "Classification Report:\n",
      "              precision    recall  f1-score   support\n",
      "\n",
      "           0       1.00      1.00      1.00      7689\n",
      "           1       1.00      0.39      0.56        61\n",
      "\n",
      "    accuracy                           1.00      7750\n",
      "   macro avg       1.00      0.70      0.78      7750\n",
      "weighted avg       1.00      1.00      0.99      7750\n",
      "\n"
     ]
    }
   ],
   "source": [
    "# Make predictions on the test set\n",
    "y_pred = model.predict(dtest)\n",
    "\n",
    "# Convert the predictions to integers\n",
    "y_pred = y_pred.astype(int)\n",
    "\n",
    "# Evaluate the classifier\n",
    "accuracy = accuracy_score(y_test, y_pred)\n",
    "print(f'Accuracy: {accuracy:.2f}')\n",
    "\n",
    "# Display classification report\n",
    "print('\\nClassification Report:')\n",
    "print(classification_report(y_test, y_pred))"
   ]
  },
  {
   "cell_type": "markdown",
   "id": "205c73ac",
   "metadata": {},
   "source": [
    "## Model for Imbalanced Data"
   ]
  },
  {
   "cell_type": "code",
   "execution_count": 10,
   "id": "d5b9822d",
   "metadata": {},
   "outputs": [],
   "source": [
    "# Split the data into training and testing sets\n",
    "X_train, X_test, y_train, y_test = train_test_split(X, y, test_size=0.2, random_state=42)\n",
    "\n",
    "X_train_preprocessed = [preprocess_text(text) for text in X_train]\n",
    "vectorizer = TfidfVectorizer()\n",
    "X_train_transformed = vectorizer.fit_transform(X_train_preprocessed)\n",
    "\n",
    "X_test_preprocessed = [preprocess_text(text) for text in X_test]\n",
    "X_test_transformed = vectorizer.transform(X_test_preprocessed)"
   ]
  },
  {
   "cell_type": "code",
   "execution_count": 11,
   "id": "379825fa",
   "metadata": {},
   "outputs": [],
   "source": [
    "# Convert data to DMatrix format used by XGBoost\n",
    "dtrain = xgb.DMatrix(X_train_transformed, label=y_train)\n",
    "dtest = xgb.DMatrix(X_test_transformed, label=y_test)\n",
    "\n",
    "# XGBoost parameters\n",
    "params = {\n",
    "    'objective': 'binary:logistic',\n",
    "    'eval_metric': 'logloss',  # Use 'logloss' for binary classification\n",
    "    'max_depth': 3,\n",
    "    'learning_rate': 0.1,\n",
    "    'n_estimators': 100,\n",
    "    'scale_pos_weight': sum(y_train == 0) / sum(y_train == 1),  # Adjust for class imbalance\n",
    "}\n"
   ]
  },
  {
   "cell_type": "code",
   "execution_count": 12,
   "id": "d47918f6",
   "metadata": {},
   "outputs": [
    {
     "name": "stderr",
     "output_type": "stream",
     "text": [
      "/Users/kchua/anaconda3/lib/python3.11/site-packages/xgboost/core.py:160: UserWarning: [13:53:11] WARNING: /Users/runner/work/xgboost/xgboost/src/learner.cc:742: \n",
      "Parameters: { \"n_estimators\" } are not used.\n",
      "\n",
      "  warnings.warn(smsg, UserWarning)\n"
     ]
    }
   ],
   "source": [
    "# Train the XGBoost model\n",
    "model = xgb.train(params, dtrain, num_boost_round=100)\n",
    "\n",
    "# Make predictions on the test set\n",
    "y_pred_prob = model.predict(dtest) "
   ]
  },
  {
   "cell_type": "code",
   "execution_count": 13,
   "id": "9c932a90",
   "metadata": {},
   "outputs": [
    {
     "name": "stdout",
     "output_type": "stream",
     "text": [
      "Best Threshold for Max Recall: 0.1\n",
      "\n",
      "Classification Report:\n",
      "              precision    recall  f1-score   support\n",
      "\n",
      "           0       1.00      0.99      0.99      7689\n",
      "           1       0.39      0.97      0.55        61\n",
      "\n",
      "    accuracy                           0.99      7750\n",
      "   macro avg       0.69      0.98      0.77      7750\n",
      "weighted avg       0.99      0.99      0.99      7750\n",
      "\n"
     ]
    }
   ],
   "source": [
    "# Choose a threshold that maximizes recall\n",
    "thresholds = [0.1, 0.2, 0.3, 0.4, 0.5, 0.6, 0.7, 0.8, 0.9]\n",
    "best_recall = 0\n",
    "best_threshold = 0\n",
    "\n",
    "for threshold in thresholds:\n",
    "    y_pred = [1 if prob > threshold else 0 for prob in y_pred_prob]\n",
    "    current_recall = recall_score(y_test, y_pred)\n",
    "\n",
    "    if current_recall > best_recall:\n",
    "        best_recall = current_recall\n",
    "        best_threshold = threshold\n",
    "\n",
    "# Use the best threshold\n",
    "y_pred = [1 if prob > best_threshold else 0 for prob in y_pred_prob]\n",
    "\n",
    "# Evaluate the classifier\n",
    "print(f'Best Threshold for Max Recall: {best_threshold}')\n",
    "print('\\nClassification Report:')\n",
    "print(classification_report(y_test, y_pred))"
   ]
  },
  {
   "cell_type": "markdown",
   "id": "b0ff6d5d",
   "metadata": {},
   "source": [
    "## Using Classifier to Find \"Missed\" Cases of Air Transport"
   ]
  },
  {
   "cell_type": "code",
   "execution_count": 14,
   "id": "b9c17cd6",
   "metadata": {},
   "outputs": [
    {
     "data": {
      "text/plain": [
       "(38749, 13695)"
      ]
     },
     "execution_count": 14,
     "metadata": {},
     "output_type": "execute_result"
    }
   ],
   "source": [
    "X_preprocessed = [preprocess_text(text) for text in X]\n",
    "X_transformed = vectorizer.transform(X_preprocessed)\n",
    "X_transformed.shape"
   ]
  },
  {
   "cell_type": "code",
   "execution_count": 15,
   "id": "02b485ad",
   "metadata": {},
   "outputs": [],
   "source": [
    "dX = xgb.DMatrix(X_transformed, label=y)"
   ]
  },
  {
   "cell_type": "code",
   "execution_count": 16,
   "id": "ea927bd8",
   "metadata": {},
   "outputs": [],
   "source": [
    "# Make predictions on the test set\n",
    "y_pred_prob = model.predict(dX)\n",
    "best_threshold = 0.1\n",
    "y_pred = [1 if prob > best_threshold else 0 for prob in y_pred_prob]"
   ]
  },
  {
   "cell_type": "code",
   "execution_count": 17,
   "id": "db7018cc",
   "metadata": {},
   "outputs": [
    {
     "name": "stdout",
     "output_type": "stream",
     "text": [
      "Accuracy: 0.99\n",
      "\n",
      "Classification Report:\n",
      "              precision    recall  f1-score   support\n",
      "\n",
      "           0       1.00      0.99      0.99     38362\n",
      "           1       0.46      0.99      0.63       387\n",
      "\n",
      "    accuracy                           0.99     38749\n",
      "   macro avg       0.73      0.99      0.81     38749\n",
      "weighted avg       0.99      0.99      0.99     38749\n",
      "\n"
     ]
    }
   ],
   "source": [
    "# Evaluate the classifier\n",
    "accuracy = accuracy_score(y, y_pred)\n",
    "print(f'Accuracy: {accuracy:.2f}')\n",
    "\n",
    "# Display classification report\n",
    "print('\\nClassification Report:')\n",
    "print(classification_report(y, y_pred))"
   ]
  },
  {
   "cell_type": "code",
   "execution_count": 18,
   "id": "b617c323",
   "metadata": {},
   "outputs": [],
   "source": [
    "# Identified positive cases\n",
    "df = pd.DataFrame()\n",
    "df['narrative'] = X\n",
    "df['air_transport_pred'] = y_pred\n",
    "df['flag_air_transport'] = y"
   ]
  },
  {
   "cell_type": "code",
   "execution_count": 19,
   "id": "e96f2437",
   "metadata": {},
   "outputs": [
    {
     "data": {
      "text/plain": [
       "air_transport_pred\n",
       "0    37905\n",
       "1      844\n",
       "Name: count, dtype: int64"
      ]
     },
     "execution_count": 19,
     "metadata": {},
     "output_type": "execute_result"
    }
   ],
   "source": [
    "df['air_transport_pred'].value_counts()"
   ]
  },
  {
   "cell_type": "code",
   "execution_count": 20,
   "id": "64dc11e3",
   "metadata": {},
   "outputs": [],
   "source": [
    "# Writing predictions to csv\n",
    "df[(df['air_transport_pred'] == 1) & (df['flag_air_transport'] == 0)]['narrative'].to_csv('./classifier_predictions/air_transport.csv')"
   ]
  },
  {
   "cell_type": "code",
   "execution_count": null,
   "id": "927c2878",
   "metadata": {},
   "outputs": [],
   "source": []
  }
 ],
 "metadata": {
  "kernelspec": {
   "display_name": "Python 3 (ipykernel)",
   "language": "python",
   "name": "python3"
  },
  "language_info": {
   "codemirror_mode": {
    "name": "ipython",
    "version": 3
   },
   "file_extension": ".py",
   "mimetype": "text/x-python",
   "name": "python",
   "nbconvert_exporter": "python",
   "pygments_lexer": "ipython3",
   "version": "3.11.7"
  }
 },
 "nbformat": 4,
 "nbformat_minor": 5
}
